{
 "cells": [
  {
   "cell_type": "code",
   "execution_count": 1,
   "metadata": {},
   "outputs": [],
   "source": [
    "from timeit import default_timer as timer\n",
    "\n",
    "import sys\n",
    "sys.setrecursionlimit(10000)\n"
   ]
  },
  {
   "cell_type": "code",
   "execution_count": null,
   "metadata": {},
   "outputs": [],
   "source": []
  },
  {
   "cell_type": "code",
   "execution_count": 2,
   "metadata": {},
   "outputs": [
    {
     "name": "stdout",
     "output_type": "stream",
     "text": [
      "0.00014162899999803358\n"
     ]
    }
   ],
   "source": [
    "def selectionsort(l):\n",
    "    for i in range(len(l)):\n",
    "        mini=i    \n",
    "        for j in range(i,len(l)):\n",
    "            if l[mini]>l[j]:\n",
    "                l[mini],l[j] = l[j], l[mini]\n",
    "            yield l\n",
    "        yield l\n",
    "\n",
    "a=timer()\n",
    "#print(selectionsort(l))\n",
    "b=timer()\n",
    "print(b-a)"
   ]
  },
  {
   "cell_type": "code",
   "execution_count": 3,
   "metadata": {},
   "outputs": [
    {
     "name": "stdout",
     "output_type": "stream",
     "text": [
      "6.855699999164244e-05\n"
     ]
    }
   ],
   "source": [
    "def insertionsort(l):\n",
    "    for i in range(len(l)):\n",
    "        while i>0 and l[i]<l[i-1]:\n",
    "            (l[i],l[i-1]) = (l[i-1],l[i])\n",
    "            i-=1\n",
    "        yield l\n",
    "\n",
    "a=timer()\n",
    "#print(insertionsort(l))\n",
    "b=timer()\n",
    "print(b-a)\n"
   ]
  },
  {
   "cell_type": "code",
   "execution_count": 4,
   "metadata": {},
   "outputs": [
    {
     "name": "stdout",
     "output_type": "stream",
     "text": [
      "7.430399999464044e-05\n"
     ]
    }
   ],
   "source": [
    "def mergesort(A, start, end):\n",
    "    \"\"\"Merge sort.\"\"\"\n",
    "\n",
    "    if end <= start:\n",
    "        return\n",
    "\n",
    "    mid = start + ((end - start + 1) // 2) - 1\n",
    "    yield from mergesort(A, start, mid)\n",
    "    yield from mergesort(A, mid + 1, end)\n",
    "    yield from merge(A, start, mid, end)\n",
    "    yield A\n",
    "    \n",
    "def merge(A, start, mid, end):\n",
    "    \"\"\"Helper function for merge sort.\"\"\"\n",
    "    \n",
    "    merged = []\n",
    "    leftIdx = start\n",
    "    rightIdx = mid + 1\n",
    "\n",
    "    while leftIdx <= mid and rightIdx <= end:\n",
    "        if A[leftIdx] < A[rightIdx]:\n",
    "            merged.append(A[leftIdx])\n",
    "            leftIdx += 1\n",
    "        else:\n",
    "            merged.append(A[rightIdx])\n",
    "            rightIdx += 1\n",
    "\n",
    "    while leftIdx <= mid:\n",
    "        merged.append(A[leftIdx])\n",
    "        leftIdx += 1\n",
    "\n",
    "    while rightIdx <= end:\n",
    "        merged.append(A[rightIdx])\n",
    "        rightIdx += 1\n",
    "\n",
    "    for i, sorted_val in enumerate(merged):\n",
    "        A[start + i] = sorted_val\n",
    "        yield A\n",
    "        \n",
    "a=timer()\n",
    "#print(mergesort(l,0,len(l)))\n",
    "b=timer()\n",
    "print(b-a)\n"
   ]
  },
  {
   "cell_type": "code",
   "execution_count": 5,
   "metadata": {},
   "outputs": [
    {
     "name": "stdout",
     "output_type": "stream",
     "text": [
      "7.47149999966723e-05\n"
     ]
    }
   ],
   "source": [
    "def quicksort(A, l, r):\n",
    "    if r - l <= 1: # Base case\n",
    "        return ()\n",
    "    \n",
    "    yellow = l + 1\n",
    "    for green in range(l+1,r):\n",
    "        if A[l] >= A[green]:\n",
    "            (A[yellow], A[green]) = (A[green], A[yellow])\n",
    "            yellow+=1\n",
    "    \n",
    "    (A[l],A[yellow-1]) = (A[yellow-1], A[l]) #pivot swap\n",
    "    yield A\n",
    "    yield from quicksort(A, l,yellow-1)\n",
    "    yield from quicksort(A,yellow, r)\n",
    "\n",
    "a=timer()    \n",
    "#print(quicksort(l,0,len(l)))\n",
    "b= timer()\n",
    "print(b-a)"
   ]
  },
  {
   "cell_type": "code",
   "execution_count": 8,
   "metadata": {
    "scrolled": true
   },
   "outputs": [
    {
     "name": "stdout",
     "output_type": "stream",
     "text": [
      "enter choice of sorting algorithm :\n",
      "1. Selection sort\n",
      "2. Insertion sort\n",
      "3. Merge sort\n",
      "4. Quick sort\n",
      "1\n",
      "<generator object selectionsort at 0x0000000005884248>\n"
     ]
    }
   ],
   "source": [
    "d={1:selectionsort(l),2:insertionsort(l),3:mergesort(l,0,len(l)),4:quicksort(l,0,len(l))}\n",
    "print(\"enter choice of sorting algorithm :\")\n",
    "try:\n",
    "    n=int(input(\"1. Selection sort\"+\"\\n\"+\"2. Insertion sort\"+\"\\n\"+\"3. Merge sort\"+\"\\n\"+\"4. Quick sort\"+\"\\n\"))\n",
    "    print(d[n])\n",
    "\n",
    "except KeyError:\n",
    "    print('please select from options available')\n"
   ]
  },
  {
   "cell_type": "markdown",
   "metadata": {},
   "source": [
    "# Sorting Visualization Using matplotlib"
   ]
  },
  {
   "cell_type": "code",
   "execution_count": 10,
   "metadata": {},
   "outputs": [],
   "source": [
    "import matplotlib.pyplot as plt\n",
    "%matplotlib qt\n",
    "import matplotlib.animation as animation"
   ]
  },
  {
   "cell_type": "code",
   "execution_count": 19,
   "metadata": {},
   "outputs": [],
   "source": [
    "l=list(range(100,1,-1))"
   ]
  },
  {
   "cell_type": "code",
   "execution_count": 20,
   "metadata": {},
   "outputs": [],
   "source": [
    "generator = quicksort(l,0,len(l)-1)"
   ]
  },
  {
   "cell_type": "code",
   "execution_count": 21,
   "metadata": {},
   "outputs": [
    {
     "data": {
      "text/plain": [
       "Text(0.5, 1.0, 'Quick sort')"
      ]
     },
     "execution_count": 21,
     "metadata": {},
     "output_type": "execute_result"
    }
   ],
   "source": [
    "fig, ax = plt.subplots()\n",
    "ax.set_title('Quick sort')"
   ]
  },
  {
   "cell_type": "code",
   "execution_count": 22,
   "metadata": {},
   "outputs": [],
   "source": [
    "bar_rects = ax.bar(range(len(l)), l, align=\"edge\")\n",
    "text = ax.text(0.02, 0.95, \"\", transform=ax.transAxes)"
   ]
  },
  {
   "cell_type": "code",
   "execution_count": 23,
   "metadata": {},
   "outputs": [],
   "source": [
    "iteration = [0]\n",
    "def update_fig(A, rects, iteration):\n",
    "    for rect, val in zip(rects, A):\n",
    "        rect.set_height(val)\n",
    "    iteration[0] += 1\n",
    "    text.set_text(\"# of operations: {}\".format(iteration[0]))"
   ]
  },
  {
   "cell_type": "code",
   "execution_count": 24,
   "metadata": {},
   "outputs": [],
   "source": [
    "anim = animation.FuncAnimation(fig, func=update_fig,fargs=(bar_rects, iteration), frames=generator, interval=1)\n",
    "plt.show()"
   ]
  },
  {
   "cell_type": "code",
   "execution_count": null,
   "metadata": {},
   "outputs": [],
   "source": []
  },
  {
   "cell_type": "code",
   "execution_count": null,
   "metadata": {},
   "outputs": [],
   "source": []
  },
  {
   "cell_type": "code",
   "execution_count": null,
   "metadata": {},
   "outputs": [],
   "source": []
  },
  {
   "cell_type": "code",
   "execution_count": null,
   "metadata": {},
   "outputs": [],
   "source": []
  }
 ],
 "metadata": {
  "kernelspec": {
   "display_name": "Python 3",
   "language": "python",
   "name": "python3"
  },
  "language_info": {
   "codemirror_mode": {
    "name": "ipython",
    "version": 3
   },
   "file_extension": ".py",
   "mimetype": "text/x-python",
   "name": "python",
   "nbconvert_exporter": "python",
   "pygments_lexer": "ipython3",
   "version": "3.7.4"
  }
 },
 "nbformat": 4,
 "nbformat_minor": 2
}
